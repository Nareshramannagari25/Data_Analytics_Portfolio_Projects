{
 "cells": [
  {
   "cell_type": "code",
   "execution_count": 1,
   "id": "77a68785",
   "metadata": {},
   "outputs": [],
   "source": [
    "import pandas as pd \n",
    "import numpy as np"
   ]
  },
  {
   "cell_type": "code",
   "execution_count": 2,
   "id": "dd64a4b1",
   "metadata": {},
   "outputs": [],
   "source": [
    "#Importing a CSV File using read_csv() method\n",
    "\n",
    "sales_2017        = pd.read_csv(r\"C:\\Users\\nares\\Desktop\\SQL & Pandas\\sales2017_uncleaned.csv\")\n",
    "sales_2018        = pd.read_csv(r\"C:\\Users\\nares\\Desktop\\SQL & Pandas\\sales2018.csv\")\n",
    "sales_2019        = pd.read_csv(r\"C:\\Users\\nares\\Desktop\\SQL & Pandas\\sales2019.csv\")\n",
    "product_details   = pd.read_csv(r\"C:\\Users\\nares\\Desktop\\SQL & Pandas\\product_details.csv\")\n",
    "store_cities      = pd.read_csv(r\"C:\\Users\\nares\\Desktop\\SQL & Pandas\\store_cities.csv\")"
   ]
  },
  {
   "cell_type": "code",
   "execution_count": 3,
   "id": "694cf8d4",
   "metadata": {},
   "outputs": [
    {
     "data": {
      "text/plain": [
       "(88158, 17)"
      ]
     },
     "execution_count": 3,
     "metadata": {},
     "output_type": "execute_result"
    }
   ],
   "source": [
    "#Concatenating all the sales Files \n",
    "\n",
    "sales_2017_2019 = pd.concat((sales_2017,sales_2018,sales_2019))\n",
    "sales_2017_2019.shape"
   ]
  },
  {
   "cell_type": "code",
   "execution_count": 4,
   "id": "da745b18",
   "metadata": {},
   "outputs": [
    {
     "data": {
      "text/plain": [
       "(88158, 9)"
      ]
     },
     "execution_count": 4,
     "metadata": {},
     "output_type": "execute_result"
    }
   ],
   "source": [
    "                            '''TRANSFORMING THE DATA FOR COMPATIBILITY AND CONSISTENCY'''\n",
    "\n",
    "#Dropping the Unwanted and Redundant Columns:\n",
    "sales_2017_2019.drop(['column3','order_date_2','promo_type_1','promo_bin_1','promo_type_2',\n",
    "                      'promo_bin_2','promo_discount_2','delivery_date_format2'],axis=1,inplace=True)\n",
    "\n",
    "sales_2017_2019.shape"
   ]
  },
  {
   "cell_type": "code",
   "execution_count": 5,
   "id": "080378b8",
   "metadata": {},
   "outputs": [
    {
     "data": {
      "text/plain": [
       "(88152, 9)"
      ]
     },
     "execution_count": 5,
     "metadata": {},
     "output_type": "execute_result"
    }
   ],
   "source": [
    "#Dropping the Duplicates\n",
    "sales_2017_2019.drop_duplicates(inplace=True)\n",
    "sales_2017_2019.shape"
   ]
  },
  {
   "cell_type": "code",
   "execution_count": 6,
   "id": "1896da7a",
   "metadata": {},
   "outputs": [
    {
     "data": {
      "text/plain": [
       "order_id                    1\n",
       "product_id                  3\n",
       "store_id                    3\n",
       "order_date                  3\n",
       "sales                    8133\n",
       "revenue                  8133\n",
       "stock                    8133\n",
       "price                    2117\n",
       "delivery_date_format1       3\n",
       "dtype: int64"
      ]
     },
     "execution_count": 6,
     "metadata": {},
     "output_type": "execute_result"
    }
   ],
   "source": [
    "#Count of null values in each and every column \n",
    "sales_2017_2019.isna().sum()"
   ]
  },
  {
   "cell_type": "code",
   "execution_count": 7,
   "id": "82750f6a",
   "metadata": {},
   "outputs": [],
   "source": [
    "#Renaming the Columns :\n",
    "sales_2017_2019 = sales_2017_2019.rename(columns ={'delivery_date_format1':'delivery_date'})"
   ]
  },
  {
   "cell_type": "code",
   "execution_count": 8,
   "id": "fb4e0cba",
   "metadata": {},
   "outputs": [],
   "source": [
    "#Removing the Null values :\n",
    "sales_2017_2019.dropna(subset= ['order_id','product_id','store_id','order_date','delivery_date'],inplace=True)"
   ]
  },
  {
   "cell_type": "code",
   "execution_count": 9,
   "id": "d3204c51",
   "metadata": {},
   "outputs": [
    {
     "data": {
      "text/plain": [
       "order_id            0\n",
       "product_id          0\n",
       "store_id            0\n",
       "order_date          0\n",
       "sales            8104\n",
       "revenue           342\n",
       "stock               0\n",
       "price               0\n",
       "delivery_date       0\n",
       "dtype: int64"
      ]
     },
     "execution_count": 9,
     "metadata": {},
     "output_type": "execute_result"
    }
   ],
   "source": [
    "#Filling Null Values with the Mean :\n",
    "sales = sales_2017_2019 \n",
    "sales['revenue']   = round(sales['revenue'].fillna(sales.groupby(['product_id'])['revenue'].transform('mean')),2)\n",
    "sales['price']     = round(sales['price'].fillna(sales.groupby(['product_id'])['price'].transform('mean')),2)\n",
    "sales['stock']     = round(sales['stock'].fillna(sales.groupby(['store_id'])['stock'].transform('mean')),2) \n",
    "\n",
    "#Dropping the Null values after filling with the Mean:\n",
    "sales.dropna(subset=['stock','price'],inplace =True)\n",
    "sales.isna().sum()"
   ]
  },
  {
   "cell_type": "code",
   "execution_count": 10,
   "id": "259240a1",
   "metadata": {},
   "outputs": [],
   "source": [
    "#Trimming the Columns using Strip() And Filling the null values using Interpolate Method:\n",
    "sales['sales'] = sales['sales'].str.strip('sales').interpolate(method='linear',direction='forward').fillna(0)"
   ]
  },
  {
   "cell_type": "code",
   "execution_count": 11,
   "id": "a9747501",
   "metadata": {},
   "outputs": [],
   "source": [
    "#Updating the Datatype of Columns:\n",
    "sales['sales']          = sales['sales'].astype('float').astype('int')\n",
    "sales['order_id']       = sales['order_id'].astype('int')\n",
    "sales['stock']          = sales['stock'].astype('int') \n",
    "sales['delivery_date']  = pd.to_datetime(sales['delivery_date'])\n",
    "sales['order_date']     = pd.to_datetime(sales['order_date'])"
   ]
  },
  {
   "cell_type": "code",
   "execution_count": 12,
   "id": "a78c71e6",
   "metadata": {},
   "outputs": [
    {
     "name": "stdout",
     "output_type": "stream",
     "text": [
      "<class 'pandas.core.frame.DataFrame'>\n",
      "Int64Index: 87993 entries, 1 to 47238\n",
      "Data columns (total 9 columns):\n",
      " #   Column         Non-Null Count  Dtype         \n",
      "---  ------         --------------  -----         \n",
      " 0   order_id       87993 non-null  int32         \n",
      " 1   product_id     87993 non-null  object        \n",
      " 2   store_id       87993 non-null  object        \n",
      " 3   order_date     87993 non-null  datetime64[ns]\n",
      " 4   sales          87993 non-null  int32         \n",
      " 5   revenue        87651 non-null  float64       \n",
      " 6   stock          87993 non-null  int32         \n",
      " 7   price          87993 non-null  float64       \n",
      " 8   delivery_date  87993 non-null  datetime64[ns]\n",
      "dtypes: datetime64[ns](2), float64(2), int32(3), object(2)\n",
      "memory usage: 5.7+ MB\n"
     ]
    }
   ],
   "source": [
    "sales.info()"
   ]
  },
  {
   "cell_type": "code",
   "execution_count": 13,
   "id": "f2cd27bd",
   "metadata": {},
   "outputs": [
    {
     "data": {
      "text/html": [
       "<div>\n",
       "<style scoped>\n",
       "    .dataframe tbody tr th:only-of-type {\n",
       "        vertical-align: middle;\n",
       "    }\n",
       "\n",
       "    .dataframe tbody tr th {\n",
       "        vertical-align: top;\n",
       "    }\n",
       "\n",
       "    .dataframe thead th {\n",
       "        text-align: right;\n",
       "    }\n",
       "</style>\n",
       "<table border=\"1\" class=\"dataframe\">\n",
       "  <thead>\n",
       "    <tr style=\"text-align: right;\">\n",
       "      <th></th>\n",
       "      <th>order_id</th>\n",
       "      <th>product_id</th>\n",
       "      <th>store_id</th>\n",
       "      <th>order_date</th>\n",
       "      <th>sales</th>\n",
       "      <th>revenue</th>\n",
       "      <th>stock</th>\n",
       "      <th>price</th>\n",
       "      <th>delivery_date</th>\n",
       "    </tr>\n",
       "  </thead>\n",
       "  <tbody>\n",
       "    <tr>\n",
       "      <th>1</th>\n",
       "      <td>1</td>\n",
       "      <td>P0258</td>\n",
       "      <td>S0008</td>\n",
       "      <td>2017-01-02</td>\n",
       "      <td>0</td>\n",
       "      <td>0.00</td>\n",
       "      <td>5</td>\n",
       "      <td>6.50</td>\n",
       "      <td>2017-01-05</td>\n",
       "    </tr>\n",
       "    <tr>\n",
       "      <th>4</th>\n",
       "      <td>2</td>\n",
       "      <td>P0348</td>\n",
       "      <td>S0110</td>\n",
       "      <td>2017-01-02</td>\n",
       "      <td>0</td>\n",
       "      <td>0.00</td>\n",
       "      <td>9</td>\n",
       "      <td>2.10</td>\n",
       "      <td>2017-01-04</td>\n",
       "    </tr>\n",
       "    <tr>\n",
       "      <th>6</th>\n",
       "      <td>3</td>\n",
       "      <td>P0219</td>\n",
       "      <td>S0026</td>\n",
       "      <td>2017-01-02</td>\n",
       "      <td>5</td>\n",
       "      <td>33.56</td>\n",
       "      <td>3</td>\n",
       "      <td>7.25</td>\n",
       "      <td>2017-01-05</td>\n",
       "    </tr>\n",
       "    <tr>\n",
       "      <th>10</th>\n",
       "      <td>4</td>\n",
       "      <td>P0218</td>\n",
       "      <td>S0051</td>\n",
       "      <td>2017-01-02</td>\n",
       "      <td>0</td>\n",
       "      <td>0.00</td>\n",
       "      <td>1</td>\n",
       "      <td>59.90</td>\n",
       "      <td>2017-01-04</td>\n",
       "    </tr>\n",
       "    <tr>\n",
       "      <th>11</th>\n",
       "      <td>5</td>\n",
       "      <td>P0660</td>\n",
       "      <td>S0056</td>\n",
       "      <td>2017-01-02</td>\n",
       "      <td>1</td>\n",
       "      <td>4.58</td>\n",
       "      <td>5</td>\n",
       "      <td>4.95</td>\n",
       "      <td>2017-01-04</td>\n",
       "    </tr>\n",
       "  </tbody>\n",
       "</table>\n",
       "</div>"
      ],
      "text/plain": [
       "    order_id product_id store_id order_date  sales  revenue  stock  price  \\\n",
       "1          1      P0258    S0008 2017-01-02      0     0.00      5   6.50   \n",
       "4          2      P0348    S0110 2017-01-02      0     0.00      9   2.10   \n",
       "6          3      P0219    S0026 2017-01-02      5    33.56      3   7.25   \n",
       "10         4      P0218    S0051 2017-01-02      0     0.00      1  59.90   \n",
       "11         5      P0660    S0056 2017-01-02      1     4.58      5   4.95   \n",
       "\n",
       "   delivery_date  \n",
       "1     2017-01-05  \n",
       "4     2017-01-04  \n",
       "6     2017-01-05  \n",
       "10    2017-01-04  \n",
       "11    2017-01-04  "
      ]
     },
     "execution_count": 13,
     "metadata": {},
     "output_type": "execute_result"
    }
   ],
   "source": [
    "#Returning First 5 Rows using head() :\n",
    "sales.head()"
   ]
  },
  {
   "cell_type": "code",
   "execution_count": 14,
   "id": "4f43a4f7",
   "metadata": {},
   "outputs": [
    {
     "data": {
      "text/html": [
       "<div>\n",
       "<style scoped>\n",
       "    .dataframe tbody tr th:only-of-type {\n",
       "        vertical-align: middle;\n",
       "    }\n",
       "\n",
       "    .dataframe tbody tr th {\n",
       "        vertical-align: top;\n",
       "    }\n",
       "\n",
       "    .dataframe thead th {\n",
       "        text-align: right;\n",
       "    }\n",
       "</style>\n",
       "<table border=\"1\" class=\"dataframe\">\n",
       "  <thead>\n",
       "    <tr style=\"text-align: right;\">\n",
       "      <th></th>\n",
       "      <th>order_id</th>\n",
       "      <th>sales</th>\n",
       "      <th>revenue</th>\n",
       "      <th>stock</th>\n",
       "      <th>price</th>\n",
       "    </tr>\n",
       "  </thead>\n",
       "  <tbody>\n",
       "    <tr>\n",
       "      <th>count</th>\n",
       "      <td>87993.000000</td>\n",
       "      <td>87993.000000</td>\n",
       "      <td>87651.000000</td>\n",
       "      <td>87993.000000</td>\n",
       "      <td>87993.000000</td>\n",
       "    </tr>\n",
       "    <tr>\n",
       "      <th>mean</th>\n",
       "      <td>44034.816258</td>\n",
       "      <td>0.101542</td>\n",
       "      <td>2.166738</td>\n",
       "      <td>15.974055</td>\n",
       "      <td>16.741538</td>\n",
       "    </tr>\n",
       "    <tr>\n",
       "      <th>std</th>\n",
       "      <td>25444.515020</td>\n",
       "      <td>1.137781</td>\n",
       "      <td>17.120361</td>\n",
       "      <td>46.612896</td>\n",
       "      <td>34.933354</td>\n",
       "    </tr>\n",
       "    <tr>\n",
       "      <th>min</th>\n",
       "      <td>1.000000</td>\n",
       "      <td>0.000000</td>\n",
       "      <td>0.000000</td>\n",
       "      <td>0.000000</td>\n",
       "      <td>0.010000</td>\n",
       "    </tr>\n",
       "    <tr>\n",
       "      <th>25%</th>\n",
       "      <td>22000.000000</td>\n",
       "      <td>0.000000</td>\n",
       "      <td>0.000000</td>\n",
       "      <td>4.000000</td>\n",
       "      <td>3.500000</td>\n",
       "    </tr>\n",
       "    <tr>\n",
       "      <th>50%</th>\n",
       "      <td>43997.000000</td>\n",
       "      <td>0.000000</td>\n",
       "      <td>0.000000</td>\n",
       "      <td>9.000000</td>\n",
       "      <td>8.500000</td>\n",
       "    </tr>\n",
       "    <tr>\n",
       "      <th>75%</th>\n",
       "      <td>66073.000000</td>\n",
       "      <td>0.000000</td>\n",
       "      <td>0.000000</td>\n",
       "      <td>17.000000</td>\n",
       "      <td>17.990000</td>\n",
       "    </tr>\n",
       "    <tr>\n",
       "      <th>max</th>\n",
       "      <td>88149.000000</td>\n",
       "      <td>178.000000</td>\n",
       "      <td>2497.960000</td>\n",
       "      <td>3993.000000</td>\n",
       "      <td>1549.000000</td>\n",
       "    </tr>\n",
       "  </tbody>\n",
       "</table>\n",
       "</div>"
      ],
      "text/plain": [
       "           order_id         sales       revenue         stock         price\n",
       "count  87993.000000  87993.000000  87651.000000  87993.000000  87993.000000\n",
       "mean   44034.816258      0.101542      2.166738     15.974055     16.741538\n",
       "std    25444.515020      1.137781     17.120361     46.612896     34.933354\n",
       "min        1.000000      0.000000      0.000000      0.000000      0.010000\n",
       "25%    22000.000000      0.000000      0.000000      4.000000      3.500000\n",
       "50%    43997.000000      0.000000      0.000000      9.000000      8.500000\n",
       "75%    66073.000000      0.000000      0.000000     17.000000     17.990000\n",
       "max    88149.000000    178.000000   2497.960000   3993.000000   1549.000000"
      ]
     },
     "execution_count": 14,
     "metadata": {},
     "output_type": "execute_result"
    }
   ],
   "source": [
    "#Statiscal information of Dataframe sales\n",
    "sales.describe()"
   ]
  },
  {
   "cell_type": "code",
   "execution_count": 15,
   "id": "7b53172a",
   "metadata": {},
   "outputs": [
    {
     "data": {
      "text/html": [
       "<div>\n",
       "<style scoped>\n",
       "    .dataframe tbody tr th:only-of-type {\n",
       "        vertical-align: middle;\n",
       "    }\n",
       "\n",
       "    .dataframe tbody tr th {\n",
       "        vertical-align: top;\n",
       "    }\n",
       "\n",
       "    .dataframe thead th {\n",
       "        text-align: right;\n",
       "    }\n",
       "</style>\n",
       "<table border=\"1\" class=\"dataframe\">\n",
       "  <thead>\n",
       "    <tr style=\"text-align: right;\">\n",
       "      <th></th>\n",
       "      <th>order_id</th>\n",
       "      <th>product_id</th>\n",
       "      <th>store_id</th>\n",
       "      <th>order_date</th>\n",
       "      <th>sales</th>\n",
       "      <th>revenue</th>\n",
       "      <th>stock</th>\n",
       "      <th>price</th>\n",
       "      <th>delivery_date</th>\n",
       "      <th>product</th>\n",
       "      <th>type</th>\n",
       "      <th>category</th>\n",
       "      <th>sub_category</th>\n",
       "      <th>state</th>\n",
       "      <th>city</th>\n",
       "    </tr>\n",
       "  </thead>\n",
       "  <tbody>\n",
       "    <tr>\n",
       "      <th>0</th>\n",
       "      <td>1</td>\n",
       "      <td>P0258</td>\n",
       "      <td>S0008</td>\n",
       "      <td>2017-01-02</td>\n",
       "      <td>0</td>\n",
       "      <td>0.0</td>\n",
       "      <td>5</td>\n",
       "      <td>6.50</td>\n",
       "      <td>2017-01-05</td>\n",
       "      <td>Sunfeast</td>\n",
       "      <td>Shower Gel &amp; Body Wash</td>\n",
       "      <td>Beauty &amp; Hygiene</td>\n",
       "      <td>Bath &amp; Hand Wash</td>\n",
       "      <td>Oklahoma</td>\n",
       "      <td>Oklahoma City</td>\n",
       "    </tr>\n",
       "    <tr>\n",
       "      <th>1</th>\n",
       "      <td>1625</td>\n",
       "      <td>P0258</td>\n",
       "      <td>S0008</td>\n",
       "      <td>2017-02-08</td>\n",
       "      <td>0</td>\n",
       "      <td>0.0</td>\n",
       "      <td>10</td>\n",
       "      <td>6.50</td>\n",
       "      <td>2017-02-10</td>\n",
       "      <td>Sunfeast</td>\n",
       "      <td>Shower Gel &amp; Body Wash</td>\n",
       "      <td>Beauty &amp; Hygiene</td>\n",
       "      <td>Bath &amp; Hand Wash</td>\n",
       "      <td>Oklahoma</td>\n",
       "      <td>Oklahoma City</td>\n",
       "    </tr>\n",
       "    <tr>\n",
       "      <th>2</th>\n",
       "      <td>16788</td>\n",
       "      <td>P0258</td>\n",
       "      <td>S0008</td>\n",
       "      <td>2017-12-06</td>\n",
       "      <td>0</td>\n",
       "      <td>0.0</td>\n",
       "      <td>3</td>\n",
       "      <td>7.10</td>\n",
       "      <td>2017-12-08</td>\n",
       "      <td>Sunfeast</td>\n",
       "      <td>Shower Gel &amp; Body Wash</td>\n",
       "      <td>Beauty &amp; Hygiene</td>\n",
       "      <td>Bath &amp; Hand Wash</td>\n",
       "      <td>Oklahoma</td>\n",
       "      <td>Oklahoma City</td>\n",
       "    </tr>\n",
       "    <tr>\n",
       "      <th>3</th>\n",
       "      <td>7141</td>\n",
       "      <td>P0348</td>\n",
       "      <td>S0008</td>\n",
       "      <td>2017-06-06</td>\n",
       "      <td>0</td>\n",
       "      <td>0.0</td>\n",
       "      <td>14</td>\n",
       "      <td>2.15</td>\n",
       "      <td>2017-06-08</td>\n",
       "      <td>Kohinoor</td>\n",
       "      <td>Herbs &amp; Seasoning</td>\n",
       "      <td>Foodgrains, Oil &amp; Masala</td>\n",
       "      <td>Masalas &amp; Spices</td>\n",
       "      <td>Oklahoma</td>\n",
       "      <td>Oklahoma City</td>\n",
       "    </tr>\n",
       "    <tr>\n",
       "      <th>4</th>\n",
       "      <td>9577</td>\n",
       "      <td>P0348</td>\n",
       "      <td>S0008</td>\n",
       "      <td>2017-07-26</td>\n",
       "      <td>0</td>\n",
       "      <td>0.0</td>\n",
       "      <td>11</td>\n",
       "      <td>2.30</td>\n",
       "      <td>2017-07-29</td>\n",
       "      <td>Kohinoor</td>\n",
       "      <td>Herbs &amp; Seasoning</td>\n",
       "      <td>Foodgrains, Oil &amp; Masala</td>\n",
       "      <td>Masalas &amp; Spices</td>\n",
       "      <td>Oklahoma</td>\n",
       "      <td>Oklahoma City</td>\n",
       "    </tr>\n",
       "  </tbody>\n",
       "</table>\n",
       "</div>"
      ],
      "text/plain": [
       "   order_id product_id store_id order_date  sales  revenue  stock  price  \\\n",
       "0         1      P0258    S0008 2017-01-02      0      0.0      5   6.50   \n",
       "1      1625      P0258    S0008 2017-02-08      0      0.0     10   6.50   \n",
       "2     16788      P0258    S0008 2017-12-06      0      0.0      3   7.10   \n",
       "3      7141      P0348    S0008 2017-06-06      0      0.0     14   2.15   \n",
       "4      9577      P0348    S0008 2017-07-26      0      0.0     11   2.30   \n",
       "\n",
       "  delivery_date   product                    type                  category  \\\n",
       "0    2017-01-05  Sunfeast  Shower Gel & Body Wash          Beauty & Hygiene   \n",
       "1    2017-02-10  Sunfeast  Shower Gel & Body Wash          Beauty & Hygiene   \n",
       "2    2017-12-08  Sunfeast  Shower Gel & Body Wash          Beauty & Hygiene   \n",
       "3    2017-06-08  Kohinoor       Herbs & Seasoning  Foodgrains, Oil & Masala   \n",
       "4    2017-07-29  Kohinoor       Herbs & Seasoning  Foodgrains, Oil & Masala   \n",
       "\n",
       "       sub_category     state           city  \n",
       "0  Bath & Hand Wash  Oklahoma  Oklahoma City  \n",
       "1  Bath & Hand Wash  Oklahoma  Oklahoma City  \n",
       "2  Bath & Hand Wash  Oklahoma  Oklahoma City  \n",
       "3  Masalas & Spices  Oklahoma  Oklahoma City  \n",
       "4  Masalas & Spices  Oklahoma  Oklahoma City  "
      ]
     },
     "execution_count": 15,
     "metadata": {},
     "output_type": "execute_result"
    }
   ],
   "source": [
    "#Merging the Dataframes\n",
    "sales_product_details = pd.merge(sales,product_details,how='inner',on='product_id')\n",
    "sales                 = pd.merge(sales_product_details,store_cities,how='inner',on='store_id')\n",
    "sales.head()"
   ]
  },
  {
   "cell_type": "code",
   "execution_count": 16,
   "id": "52f77c19",
   "metadata": {},
   "outputs": [],
   "source": [
    "#Exporting a Datset into CSV File\n",
    "sales = sales.to_csv('sales_Data.csv',header=True,index=False)\n",
    "sales"
   ]
  },
  {
   "cell_type": "code",
   "execution_count": null,
   "id": "c72a0b2c",
   "metadata": {},
   "outputs": [],
   "source": []
  },
  {
   "cell_type": "code",
   "execution_count": null,
   "id": "8dff2c5b",
   "metadata": {},
   "outputs": [],
   "source": []
  }
 ],
 "metadata": {
  "kernelspec": {
   "display_name": "Python 3",
   "language": "python",
   "name": "python3"
  },
  "language_info": {
   "codemirror_mode": {
    "name": "ipython",
    "version": 3
   },
   "file_extension": ".py",
   "mimetype": "text/x-python",
   "name": "python",
   "nbconvert_exporter": "python",
   "pygments_lexer": "ipython3",
   "version": "3.9.13"
  },
  "vscode": {
   "interpreter": {
    "hash": "2a514379cc6be58733012563c88818cb3ec1bb760c8404a0db76b5596b224488"
   }
  }
 },
 "nbformat": 4,
 "nbformat_minor": 5
}
