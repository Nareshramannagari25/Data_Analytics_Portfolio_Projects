{
 "cells": [
  {
   "attachments": {},
   "cell_type": "markdown",
   "id": "bd4c0df4",
   "metadata": {},
   "source": [
    "## **TRANSFORMING THE DATA FOR COMPATIBILITY AND CONSISTENCY**"
   ]
  },
  {
   "cell_type": "code",
   "execution_count": 135,
   "id": "77a68785",
   "metadata": {},
   "outputs": [],
   "source": [
    "import pandas as pd \n",
    "import numpy as np"
   ]
  },
  {
   "attachments": {},
   "cell_type": "markdown",
   "id": "cbaa826c",
   "metadata": {},
   "source": [
    "### **Importing a CSV File using read_csv() Method :**"
   ]
  },
  {
   "cell_type": "code",
   "execution_count": 136,
   "id": "dd64a4b1",
   "metadata": {},
   "outputs": [
    {
     "data": {
      "text/html": [
       "<div>\n",
       "<style scoped>\n",
       "    .dataframe tbody tr th:only-of-type {\n",
       "        vertical-align: middle;\n",
       "    }\n",
       "\n",
       "    .dataframe tbody tr th {\n",
       "        vertical-align: top;\n",
       "    }\n",
       "\n",
       "    .dataframe thead th {\n",
       "        text-align: right;\n",
       "    }\n",
       "</style>\n",
       "<table border=\"1\" class=\"dataframe\">\n",
       "  <thead>\n",
       "    <tr style=\"text-align: right;\">\n",
       "      <th></th>\n",
       "      <th>order_id (unique)</th>\n",
       "      <th>product_id</th>\n",
       "      <th>column3</th>\n",
       "      <th>store_id</th>\n",
       "      <th>order_date</th>\n",
       "      <th>order_date_2</th>\n",
       "      <th>sales</th>\n",
       "      <th>revenue</th>\n",
       "      <th>stock</th>\n",
       "      <th>price</th>\n",
       "      <th>promo_type_1</th>\n",
       "      <th>promo_bin_1</th>\n",
       "      <th>promo_type_2</th>\n",
       "      <th>promo_bin_2</th>\n",
       "      <th>promo_discount_2</th>\n",
       "      <th>delivery_date_format1</th>\n",
       "      <th>delivery_date_format2</th>\n",
       "    </tr>\n",
       "  </thead>\n",
       "  <tbody>\n",
       "    <tr>\n",
       "      <th>0</th>\n",
       "      <td>NaN</td>\n",
       "      <td>NaN</td>\n",
       "      <td>NaN</td>\n",
       "      <td>NaN</td>\n",
       "      <td>NaN</td>\n",
       "      <td>NaN</td>\n",
       "      <td>NaN</td>\n",
       "      <td>NaN</td>\n",
       "      <td>NaN</td>\n",
       "      <td>NaN</td>\n",
       "      <td>NaN</td>\n",
       "      <td>NaN</td>\n",
       "      <td>NaN</td>\n",
       "      <td>NaN</td>\n",
       "      <td>NaN</td>\n",
       "      <td>NaN</td>\n",
       "      <td>NaN</td>\n",
       "    </tr>\n",
       "    <tr>\n",
       "      <th>1</th>\n",
       "      <td>1.0</td>\n",
       "      <td>P0258</td>\n",
       "      <td>NaN</td>\n",
       "      <td>S0008</td>\n",
       "      <td>01-02-2017</td>\n",
       "      <td>02-Jan-17</td>\n",
       "      <td>0 sales</td>\n",
       "      <td>0.0</td>\n",
       "      <td>5.0</td>\n",
       "      <td>6.5</td>\n",
       "      <td>PR14</td>\n",
       "      <td>NaN</td>\n",
       "      <td>PR03</td>\n",
       "      <td>NaN</td>\n",
       "      <td>NaN</td>\n",
       "      <td>01-05-2017</td>\n",
       "      <td>05-01-2017</td>\n",
       "    </tr>\n",
       "    <tr>\n",
       "      <th>2</th>\n",
       "      <td>NaN</td>\n",
       "      <td>NaN</td>\n",
       "      <td>NaN</td>\n",
       "      <td>NaN</td>\n",
       "      <td>NaN</td>\n",
       "      <td>NaN</td>\n",
       "      <td>NaN</td>\n",
       "      <td>NaN</td>\n",
       "      <td>NaN</td>\n",
       "      <td>NaN</td>\n",
       "      <td>NaN</td>\n",
       "      <td>NaN</td>\n",
       "      <td>NaN</td>\n",
       "      <td>NaN</td>\n",
       "      <td>NaN</td>\n",
       "      <td>NaN</td>\n",
       "      <td>NaN</td>\n",
       "    </tr>\n",
       "    <tr>\n",
       "      <th>3</th>\n",
       "      <td>NaN</td>\n",
       "      <td>NaN</td>\n",
       "      <td>NaN</td>\n",
       "      <td>NaN</td>\n",
       "      <td>NaN</td>\n",
       "      <td>NaN</td>\n",
       "      <td>NaN</td>\n",
       "      <td>NaN</td>\n",
       "      <td>NaN</td>\n",
       "      <td>NaN</td>\n",
       "      <td>NaN</td>\n",
       "      <td>NaN</td>\n",
       "      <td>NaN</td>\n",
       "      <td>NaN</td>\n",
       "      <td>NaN</td>\n",
       "      <td>NaN</td>\n",
       "      <td>NaN</td>\n",
       "    </tr>\n",
       "    <tr>\n",
       "      <th>4</th>\n",
       "      <td>2.0</td>\n",
       "      <td>P0348</td>\n",
       "      <td>NaN</td>\n",
       "      <td>S0110</td>\n",
       "      <td>01-02-2017</td>\n",
       "      <td>02-Jan-17</td>\n",
       "      <td>0 sales</td>\n",
       "      <td>0.0</td>\n",
       "      <td>9.0</td>\n",
       "      <td>2.1</td>\n",
       "      <td>PR05</td>\n",
       "      <td>verylow</td>\n",
       "      <td>PR03</td>\n",
       "      <td>NaN</td>\n",
       "      <td>NaN</td>\n",
       "      <td>01-04-2017</td>\n",
       "      <td>04-01-2017</td>\n",
       "    </tr>\n",
       "  </tbody>\n",
       "</table>\n",
       "</div>"
      ],
      "text/plain": [
       "   order_id (unique) product_id  column3 store_id  order_date order_date_2  \\\n",
       "0                NaN        NaN      NaN      NaN         NaN          NaN   \n",
       "1                1.0      P0258      NaN    S0008  01-02-2017    02-Jan-17   \n",
       "2                NaN        NaN      NaN      NaN         NaN          NaN   \n",
       "3                NaN        NaN      NaN      NaN         NaN          NaN   \n",
       "4                2.0      P0348      NaN    S0110  01-02-2017    02-Jan-17   \n",
       "\n",
       "     sales  revenue  stock  price promo_type_1 promo_bin_1 promo_type_2  \\\n",
       "0      NaN      NaN    NaN    NaN          NaN         NaN          NaN   \n",
       "1  0 sales      0.0    5.0    6.5         PR14         NaN         PR03   \n",
       "2      NaN      NaN    NaN    NaN          NaN         NaN          NaN   \n",
       "3      NaN      NaN    NaN    NaN          NaN         NaN          NaN   \n",
       "4  0 sales      0.0    9.0    2.1         PR05     verylow         PR03   \n",
       "\n",
       "   promo_bin_2  promo_discount_2 delivery_date_format1 delivery_date_format2  \n",
       "0          NaN               NaN                   NaN                   NaN  \n",
       "1          NaN               NaN            01-05-2017            05-01-2017  \n",
       "2          NaN               NaN                   NaN                   NaN  \n",
       "3          NaN               NaN                   NaN                   NaN  \n",
       "4          NaN               NaN            01-04-2017            04-01-2017  "
      ]
     },
     "execution_count": 136,
     "metadata": {},
     "output_type": "execute_result"
    }
   ],
   "source": [
    "sales_2017 = pd.read_csv(r\"C:\\Users\\nares\\Desktop\\PCleaning Datasets\\sales2017_uncleaned.csv\",skiprows=1)\n",
    "sales_2017.head()"
   ]
  },
  {
   "attachments": {},
   "cell_type": "markdown",
   "id": "e95f2376",
   "metadata": {},
   "source": [
    "### **Removing Unwanted and Redundant Columns :**"
   ]
  },
  {
   "cell_type": "code",
   "execution_count": 137,
   "id": "da745b18",
   "metadata": {},
   "outputs": [
    {
     "data": {
      "text/plain": [
       "(18124, 9)"
      ]
     },
     "execution_count": 137,
     "metadata": {},
     "output_type": "execute_result"
    }
   ],
   "source": [
    "sales_2017.drop(['column3','order_date_2','promo_type_1','promo_bin_1','promo_type_2',\n",
    "                    'promo_bin_2','promo_discount_2','delivery_date_format2'],axis=1,inplace=True\n",
    "               )\n",
    "               \n",
    "# Using the shape method to check the number of Columns :\n",
    "\n",
    "sales_2017.shape"
   ]
  },
  {
   "cell_type": "markdown",
   "id": "7b8c726c",
   "metadata": {},
   "source": [
    "### **Renaming the Columns :**"
   ]
  },
  {
   "cell_type": "code",
   "execution_count": 138,
   "id": "0661cdbe",
   "metadata": {},
   "outputs": [
    {
     "data": {
      "text/plain": [
       "Index(['order_id', 'product_id', 'store_id', 'order_date', 'sales', 'revenue',\n",
       "       'stock', 'price', 'delivery_date'],\n",
       "      dtype='object')"
      ]
     },
     "execution_count": 138,
     "metadata": {},
     "output_type": "execute_result"
    }
   ],
   "source": [
    "sales_2017 = sales_2017.rename(columns={'order_id (unique)':'order_id','delivery_date_format1':'delivery_date'})\n",
    "sales_2017.columns"
   ]
  },
  {
   "attachments": {},
   "cell_type": "markdown",
   "id": "b48fe45f",
   "metadata": {},
   "source": [
    "### **Count of Null Values in Each and Every Column :**"
   ]
  },
  {
   "cell_type": "code",
   "execution_count": 139,
   "id": "1896da7a",
   "metadata": {},
   "outputs": [
    {
     "data": {
      "text/plain": [
       "order_id           5\n",
       "product_id         7\n",
       "store_id           7\n",
       "order_date         7\n",
       "sales              7\n",
       "revenue            7\n",
       "stock              7\n",
       "price            631\n",
       "delivery_date      7\n",
       "dtype: int64"
      ]
     },
     "execution_count": 139,
     "metadata": {},
     "output_type": "execute_result"
    }
   ],
   "source": [
    "sales_2017.isna().sum()"
   ]
  },
  {
   "cell_type": "markdown",
   "id": "6c51b640",
   "metadata": {},
   "source": [
    "### **Removing the Null values :**"
   ]
  },
  {
   "cell_type": "code",
   "execution_count": 140,
   "id": "fb4e0cba",
   "metadata": {},
   "outputs": [
    {
     "data": {
      "text/plain": [
       "order_id           0\n",
       "product_id         0\n",
       "store_id           0\n",
       "order_date         0\n",
       "sales              0\n",
       "revenue            0\n",
       "stock              0\n",
       "price            624\n",
       "delivery_date      0\n",
       "dtype: int64"
      ]
     },
     "execution_count": 140,
     "metadata": {},
     "output_type": "execute_result"
    }
   ],
   "source": [
    "sales_2017.dropna(subset= ['order_id','product_id','store_id','order_date','delivery_date'],inplace=True)\n",
    "sales_2017.isna().sum()"
   ]
  },
  {
   "attachments": {},
   "cell_type": "markdown",
   "id": "80b72cd1",
   "metadata": {},
   "source": [
    "### **Filling Null Values with the Mean :**"
   ]
  },
  {
   "cell_type": "code",
   "execution_count": 141,
   "id": "9c3310f1",
   "metadata": {},
   "outputs": [
    {
     "data": {
      "text/plain": [
       "order_id         0\n",
       "product_id       0\n",
       "store_id         0\n",
       "order_date       0\n",
       "sales            0\n",
       "revenue          0\n",
       "stock            0\n",
       "price            0\n",
       "delivery_date    0\n",
       "dtype: int64"
      ]
     },
     "execution_count": 141,
     "metadata": {},
     "output_type": "execute_result"
    }
   ],
   "source": [
    "sales_2017['price']     = (round(sales_2017['price'].fillna(sales_2017.groupby(['product_id'])\n",
    "                                 ['price'].transform('mean')),2)\n",
    "                          )\n",
    "\n",
    "# Count of Null values :\n",
    "sales_2017.dropna(subset=['price'],inplace=True)\n",
    "sales_2017.isna().sum()"
   ]
  },
  {
   "cell_type": "markdown",
   "id": "dcedaad3",
   "metadata": {},
   "source": [
    "### **Dropping the Duplicates :**"
   ]
  },
  {
   "cell_type": "code",
   "execution_count": 142,
   "id": "f7f81794",
   "metadata": {},
   "outputs": [
    {
     "data": {
      "text/plain": [
       "(18098, 9)"
      ]
     },
     "execution_count": 142,
     "metadata": {},
     "output_type": "execute_result"
    }
   ],
   "source": [
    "sales_2017.drop_duplicates()\n",
    "sales_2017.shape"
   ]
  },
  {
   "cell_type": "markdown",
   "id": "00f278e2",
   "metadata": {},
   "source": [
    "### **Extracting the Column :**"
   ]
  },
  {
   "cell_type": "code",
   "execution_count": 143,
   "id": "11105a1a",
   "metadata": {},
   "outputs": [
    {
     "data": {
      "text/html": [
       "<div>\n",
       "<style scoped>\n",
       "    .dataframe tbody tr th:only-of-type {\n",
       "        vertical-align: middle;\n",
       "    }\n",
       "\n",
       "    .dataframe tbody tr th {\n",
       "        vertical-align: top;\n",
       "    }\n",
       "\n",
       "    .dataframe thead th {\n",
       "        text-align: right;\n",
       "    }\n",
       "</style>\n",
       "<table border=\"1\" class=\"dataframe\">\n",
       "  <thead>\n",
       "    <tr style=\"text-align: right;\">\n",
       "      <th></th>\n",
       "      <th>order_id</th>\n",
       "      <th>product_id</th>\n",
       "      <th>store_id</th>\n",
       "      <th>order_date</th>\n",
       "      <th>sales</th>\n",
       "      <th>revenue</th>\n",
       "      <th>stock</th>\n",
       "      <th>price</th>\n",
       "      <th>delivery_date</th>\n",
       "    </tr>\n",
       "  </thead>\n",
       "  <tbody>\n",
       "    <tr>\n",
       "      <th>1</th>\n",
       "      <td>1.0</td>\n",
       "      <td>P0258</td>\n",
       "      <td>S0008</td>\n",
       "      <td>01-02-2017</td>\n",
       "      <td>0</td>\n",
       "      <td>0.00</td>\n",
       "      <td>5.0</td>\n",
       "      <td>6.50</td>\n",
       "      <td>01-05-2017</td>\n",
       "    </tr>\n",
       "    <tr>\n",
       "      <th>4</th>\n",
       "      <td>2.0</td>\n",
       "      <td>P0348</td>\n",
       "      <td>S0110</td>\n",
       "      <td>01-02-2017</td>\n",
       "      <td>0</td>\n",
       "      <td>0.00</td>\n",
       "      <td>9.0</td>\n",
       "      <td>2.10</td>\n",
       "      <td>01-04-2017</td>\n",
       "    </tr>\n",
       "    <tr>\n",
       "      <th>6</th>\n",
       "      <td>3.0</td>\n",
       "      <td>P0219</td>\n",
       "      <td>S0026</td>\n",
       "      <td>01-02-2017</td>\n",
       "      <td>5</td>\n",
       "      <td>33.56</td>\n",
       "      <td>3.0</td>\n",
       "      <td>7.25</td>\n",
       "      <td>01-05-2017</td>\n",
       "    </tr>\n",
       "    <tr>\n",
       "      <th>7</th>\n",
       "      <td>3.0</td>\n",
       "      <td>P0219</td>\n",
       "      <td>S0026</td>\n",
       "      <td>01-02-2017</td>\n",
       "      <td>5</td>\n",
       "      <td>33.56</td>\n",
       "      <td>3.0</td>\n",
       "      <td>7.25</td>\n",
       "      <td>01-05-2017</td>\n",
       "    </tr>\n",
       "    <tr>\n",
       "      <th>8</th>\n",
       "      <td>3.0</td>\n",
       "      <td>P0219</td>\n",
       "      <td>S0026</td>\n",
       "      <td>01-02-2017</td>\n",
       "      <td>5</td>\n",
       "      <td>33.56</td>\n",
       "      <td>3.0</td>\n",
       "      <td>7.25</td>\n",
       "      <td>01-05-2017</td>\n",
       "    </tr>\n",
       "  </tbody>\n",
       "</table>\n",
       "</div>"
      ],
      "text/plain": [
       "   order_id product_id store_id  order_date sales  revenue  stock  price  \\\n",
       "1       1.0      P0258    S0008  01-02-2017     0     0.00    5.0   6.50   \n",
       "4       2.0      P0348    S0110  01-02-2017     0     0.00    9.0   2.10   \n",
       "6       3.0      P0219    S0026  01-02-2017     5    33.56    3.0   7.25   \n",
       "7       3.0      P0219    S0026  01-02-2017     5    33.56    3.0   7.25   \n",
       "8       3.0      P0219    S0026  01-02-2017     5    33.56    3.0   7.25   \n",
       "\n",
       "  delivery_date  \n",
       "1    01-05-2017  \n",
       "4    01-04-2017  \n",
       "6    01-05-2017  \n",
       "7    01-05-2017  \n",
       "8    01-05-2017  "
      ]
     },
     "execution_count": 143,
     "metadata": {},
     "output_type": "execute_result"
    }
   ],
   "source": [
    "sales_2017['sales'] =sales_2017['sales'].apply(lambda x : x.split()[0])\n",
    "sales_2017['sales'] = sales_2017['sales'].str.strip()\n",
    "sales_2017.head(5)"
   ]
  },
  {
   "cell_type": "markdown",
   "id": "cdbf75cf",
   "metadata": {},
   "source": [
    "### **Updating the Datatype of Columns :**"
   ]
  },
  {
   "cell_type": "code",
   "execution_count": 144,
   "id": "a9747501",
   "metadata": {},
   "outputs": [],
   "source": [
    "sales_2017['sales']            = sales_2017['sales'].astype('float').astype('int')\n",
    "sales_2017['order_id']         = sales_2017['order_id'].astype('int')\n",
    "sales_2017['stock']            = sales_2017['stock'].astype('int') \n",
    "sales_2017['delivery_date']    = pd.to_datetime(sales_2017['delivery_date'])\n",
    "sales_2017['order_date']       = pd.to_datetime(sales_2017['order_date'])"
   ]
  },
  {
   "cell_type": "markdown",
   "id": "66d7af4f",
   "metadata": {},
   "source": [
    "### **Checking the  data types of Columns :**"
   ]
  },
  {
   "cell_type": "code",
   "execution_count": 145,
   "id": "d9836708",
   "metadata": {},
   "outputs": [
    {
     "name": "stdout",
     "output_type": "stream",
     "text": [
      "<class 'pandas.core.frame.DataFrame'>\n",
      "Int64Index: 18098 entries, 1 to 18123\n",
      "Data columns (total 9 columns):\n",
      " #   Column         Non-Null Count  Dtype         \n",
      "---  ------         --------------  -----         \n",
      " 0   order_id       18098 non-null  int32         \n",
      " 1   product_id     18098 non-null  object        \n",
      " 2   store_id       18098 non-null  object        \n",
      " 3   order_date     18098 non-null  datetime64[ns]\n",
      " 4   sales          18098 non-null  int32         \n",
      " 5   revenue        18098 non-null  float64       \n",
      " 6   stock          18098 non-null  int32         \n",
      " 7   price          18098 non-null  float64       \n",
      " 8   delivery_date  18098 non-null  datetime64[ns]\n",
      "dtypes: datetime64[ns](2), float64(2), int32(3), object(2)\n",
      "memory usage: 1.2+ MB\n"
     ]
    }
   ],
   "source": [
    "sales_2017.info()"
   ]
  },
  {
   "cell_type": "markdown",
   "id": "d40eb715",
   "metadata": {},
   "source": [
    "### **Exporting the Datset :**"
   ]
  },
  {
   "cell_type": "code",
   "execution_count": 146,
   "id": "52f77c19",
   "metadata": {},
   "outputs": [],
   "source": [
    "sales_2017 = sales_2017.to_csv('sales_Data.csv',header=True,index=False)\n",
    "sales_2017"
   ]
  }
 ],
 "metadata": {
  "kernelspec": {
   "display_name": "Python 3",
   "language": "python",
   "name": "python3"
  },
  "language_info": {
   "codemirror_mode": {
    "name": "ipython",
    "version": 3
   },
   "file_extension": ".py",
   "mimetype": "text/x-python",
   "name": "python",
   "nbconvert_exporter": "python",
   "pygments_lexer": "ipython3",
   "version": "3.9.13"
  },
  "vscode": {
   "interpreter": {
    "hash": "2a514379cc6be58733012563c88818cb3ec1bb760c8404a0db76b5596b224488"
   }
  }
 },
 "nbformat": 4,
 "nbformat_minor": 5
}
