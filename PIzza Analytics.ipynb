{
 "cells": [
  {
   "attachments": {},
   "cell_type": "markdown",
   "id": "2a9205af",
   "metadata": {},
   "source": [
    "## **A Deep Dive into Pizza Sales and Performance Metric**"
   ]
  },
  {
   "cell_type": "code",
   "execution_count": 2,
   "id": "cff23a86",
   "metadata": {},
   "outputs": [],
   "source": [
    "import pandas as pd\n",
    "import numpy  as np\n",
    "from matplotlib import pyplot as plt"
   ]
  },
  {
   "attachments": {},
   "cell_type": "markdown",
   "id": "4b766965",
   "metadata": {},
   "source": [
    "#### **Importing the CSV Files :** "
   ]
  },
  {
   "cell_type": "code",
   "execution_count": 3,
   "id": "10603fca",
   "metadata": {},
   "outputs": [],
   "source": [
    "orders        = pd.read_csv(r\"C:\\Users\\nares\\Desktop\\Pandas Analysis\\orders.csv\",parse_dates=['time'])\n",
    "order_details = pd.read_csv(r\"C:\\Users\\nares\\Desktop\\Pandas Analysis\\order_details.csv\")\n",
    "pizzas        = pd.read_csv(r\"C:\\Users\\nares\\Desktop\\Pandas Analysis\\pizzas.csv\")\n",
    "pizza_types   = pd.read_csv(r\"C:\\Users\\nares\\Desktop\\Pandas Analysis\\pizza_types.csv\")"
   ]
  },
  {
   "attachments": {},
   "cell_type": "markdown",
   "id": "311d5364",
   "metadata": {},
   "source": [
    "#### **Merging the Datasets using Merge :**"
   ]
  },
  {
   "cell_type": "code",
   "execution_count": 4,
   "id": "6426ad7b",
   "metadata": {},
   "outputs": [
    {
     "data": {
      "text/html": [
       "<div>\n",
       "<style scoped>\n",
       "    .dataframe tbody tr th:only-of-type {\n",
       "        vertical-align: middle;\n",
       "    }\n",
       "\n",
       "    .dataframe tbody tr th {\n",
       "        vertical-align: top;\n",
       "    }\n",
       "\n",
       "    .dataframe thead th {\n",
       "        text-align: right;\n",
       "    }\n",
       "</style>\n",
       "<table border=\"1\" class=\"dataframe\">\n",
       "  <thead>\n",
       "    <tr style=\"text-align: right;\">\n",
       "      <th></th>\n",
       "      <th>order_id</th>\n",
       "      <th>date</th>\n",
       "      <th>time</th>\n",
       "      <th>pizza_id</th>\n",
       "      <th>quantity</th>\n",
       "      <th>pizza_type_id</th>\n",
       "      <th>size</th>\n",
       "      <th>price</th>\n",
       "      <th>name</th>\n",
       "      <th>category</th>\n",
       "    </tr>\n",
       "  </thead>\n",
       "  <tbody>\n",
       "    <tr>\n",
       "      <th>0</th>\n",
       "      <td>1</td>\n",
       "      <td>2015-01-01</td>\n",
       "      <td>2023-04-27 11:38:36</td>\n",
       "      <td>hawaiian_m</td>\n",
       "      <td>1</td>\n",
       "      <td>hawaiian</td>\n",
       "      <td>M</td>\n",
       "      <td>13.25</td>\n",
       "      <td>The Hawaiian Pizza</td>\n",
       "      <td>Classic</td>\n",
       "    </tr>\n",
       "    <tr>\n",
       "      <th>9450</th>\n",
       "      <td>2</td>\n",
       "      <td>2015-01-01</td>\n",
       "      <td>2023-04-27 11:57:40</td>\n",
       "      <td>thai_ckn_l</td>\n",
       "      <td>1</td>\n",
       "      <td>thai_ckn</td>\n",
       "      <td>L</td>\n",
       "      <td>20.75</td>\n",
       "      <td>The Thai Chicken Pizza</td>\n",
       "      <td>Chicken</td>\n",
       "    </tr>\n",
       "    <tr>\n",
       "      <th>7994</th>\n",
       "      <td>2</td>\n",
       "      <td>2015-01-01</td>\n",
       "      <td>2023-04-27 11:57:40</td>\n",
       "      <td>mexicana_m</td>\n",
       "      <td>1</td>\n",
       "      <td>mexicana</td>\n",
       "      <td>M</td>\n",
       "      <td>16.00</td>\n",
       "      <td>The Mexicana Pizza</td>\n",
       "      <td>Veggie</td>\n",
       "    </tr>\n",
       "    <tr>\n",
       "      <th>2370</th>\n",
       "      <td>2</td>\n",
       "      <td>2015-01-01</td>\n",
       "      <td>2023-04-27 11:57:40</td>\n",
       "      <td>classic_dlx_m</td>\n",
       "      <td>1</td>\n",
       "      <td>classic_dlx</td>\n",
       "      <td>M</td>\n",
       "      <td>16.00</td>\n",
       "      <td>The Classic Deluxe Pizza</td>\n",
       "      <td>Classic</td>\n",
       "    </tr>\n",
       "    <tr>\n",
       "      <th>6145</th>\n",
       "      <td>2</td>\n",
       "      <td>2015-01-01</td>\n",
       "      <td>2023-04-27 11:57:40</td>\n",
       "      <td>ital_supr_l</td>\n",
       "      <td>1</td>\n",
       "      <td>ital_supr</td>\n",
       "      <td>L</td>\n",
       "      <td>20.75</td>\n",
       "      <td>The Italian Supreme Pizza</td>\n",
       "      <td>Supreme</td>\n",
       "    </tr>\n",
       "  </tbody>\n",
       "</table>\n",
       "</div>"
      ],
      "text/plain": [
       "      order_id        date                time       pizza_id  quantity  \\\n",
       "0            1  2015-01-01 2023-04-27 11:38:36     hawaiian_m         1   \n",
       "9450         2  2015-01-01 2023-04-27 11:57:40     thai_ckn_l         1   \n",
       "7994         2  2015-01-01 2023-04-27 11:57:40     mexicana_m         1   \n",
       "2370         2  2015-01-01 2023-04-27 11:57:40  classic_dlx_m         1   \n",
       "6145         2  2015-01-01 2023-04-27 11:57:40    ital_supr_l         1   \n",
       "\n",
       "     pizza_type_id size  price                       name category  \n",
       "0         hawaiian    M  13.25         The Hawaiian Pizza  Classic  \n",
       "9450      thai_ckn    L  20.75     The Thai Chicken Pizza  Chicken  \n",
       "7994      mexicana    M  16.00         The Mexicana Pizza   Veggie  \n",
       "2370   classic_dlx    M  16.00   The Classic Deluxe Pizza  Classic  \n",
       "6145     ital_supr    L  20.75  The Italian Supreme Pizza  Supreme  "
      ]
     },
     "execution_count": 4,
     "metadata": {},
     "output_type": "execute_result"
    }
   ],
   "source": [
    "Merged_df     = pd.merge(orders,order_details,on='order_id')\n",
    "Merged_df     = pd.merge(Merged_df,pizzas,on='pizza_id')\n",
    "Pizza_sales   = pd.merge(Merged_df,pizza_types,on='pizza_type_id')\n",
    "Pizza_sales.sort_values(by=['order_id'],ascending=[True]).head()"
   ]
  },
  {
   "attachments": {},
   "cell_type": "markdown",
   "id": "7cc313b6",
   "metadata": {},
   "source": [
    "#### **Extracting the Date and Time Components :**"
   ]
  },
  {
   "cell_type": "code",
   "execution_count": 5,
   "id": "5c319d68",
   "metadata": {},
   "outputs": [],
   "source": [
    "Pizza_sales[['Year','Month','Day']] = Pizza_sales['date'].str.split('-',expand=True)\n",
    "Pizza_sales['Hour']                 = Pizza_sales['time'].dt.hour"
   ]
  },
  {
   "attachments": {},
   "cell_type": "markdown",
   "id": "d8553136",
   "metadata": {},
   "source": [
    "#### **Adding a Column :**"
   ]
  },
  {
   "cell_type": "code",
   "execution_count": 6,
   "id": "2f49f3ee",
   "metadata": {},
   "outputs": [],
   "source": [
    "Pizza_sales['Revenue'] = Pizza_sales['quantity'] * Pizza_sales['price']"
   ]
  },
  {
   "attachments": {},
   "cell_type": "markdown",
   "id": "07e24535",
   "metadata": {},
   "source": [
    "#### **Dropping the Columns :**"
   ]
  },
  {
   "cell_type": "code",
   "execution_count": 7,
   "id": "5390f31b",
   "metadata": {},
   "outputs": [],
   "source": [
    "Pizza_sales = Pizza_sales.drop(['pizza_id','pizza_type_id','time'],axis=1)"
   ]
  },
  {
   "attachments": {},
   "cell_type": "markdown",
   "id": "69da5535",
   "metadata": {},
   "source": [
    "#### **Re-arranging the Columns :**"
   ]
  },
  {
   "cell_type": "code",
   "execution_count": 8,
   "id": "daf0fc0e",
   "metadata": {},
   "outputs": [
    {
     "data": {
      "text/html": [
       "<div>\n",
       "<style scoped>\n",
       "    .dataframe tbody tr th:only-of-type {\n",
       "        vertical-align: middle;\n",
       "    }\n",
       "\n",
       "    .dataframe tbody tr th {\n",
       "        vertical-align: top;\n",
       "    }\n",
       "\n",
       "    .dataframe thead th {\n",
       "        text-align: right;\n",
       "    }\n",
       "</style>\n",
       "<table border=\"1\" class=\"dataframe\">\n",
       "  <thead>\n",
       "    <tr style=\"text-align: right;\">\n",
       "      <th></th>\n",
       "      <th>order_id</th>\n",
       "      <th>name</th>\n",
       "      <th>category</th>\n",
       "      <th>size</th>\n",
       "      <th>Revenue</th>\n",
       "      <th>Year</th>\n",
       "      <th>Month</th>\n",
       "      <th>Day</th>\n",
       "      <th>date</th>\n",
       "    </tr>\n",
       "  </thead>\n",
       "  <tbody>\n",
       "    <tr>\n",
       "      <th>0</th>\n",
       "      <td>1</td>\n",
       "      <td>The Hawaiian Pizza</td>\n",
       "      <td>Classic</td>\n",
       "      <td>M</td>\n",
       "      <td>13.25</td>\n",
       "      <td>2015</td>\n",
       "      <td>01</td>\n",
       "      <td>01</td>\n",
       "      <td>2015-01-01</td>\n",
       "    </tr>\n",
       "    <tr>\n",
       "      <th>1</th>\n",
       "      <td>77</td>\n",
       "      <td>The Hawaiian Pizza</td>\n",
       "      <td>Classic</td>\n",
       "      <td>M</td>\n",
       "      <td>13.25</td>\n",
       "      <td>2015</td>\n",
       "      <td>01</td>\n",
       "      <td>02</td>\n",
       "      <td>2015-01-02</td>\n",
       "    </tr>\n",
       "    <tr>\n",
       "      <th>2</th>\n",
       "      <td>146</td>\n",
       "      <td>The Hawaiian Pizza</td>\n",
       "      <td>Classic</td>\n",
       "      <td>M</td>\n",
       "      <td>13.25</td>\n",
       "      <td>2015</td>\n",
       "      <td>01</td>\n",
       "      <td>03</td>\n",
       "      <td>2015-01-03</td>\n",
       "    </tr>\n",
       "    <tr>\n",
       "      <th>3</th>\n",
       "      <td>163</td>\n",
       "      <td>The Hawaiian Pizza</td>\n",
       "      <td>Classic</td>\n",
       "      <td>M</td>\n",
       "      <td>13.25</td>\n",
       "      <td>2015</td>\n",
       "      <td>01</td>\n",
       "      <td>03</td>\n",
       "      <td>2015-01-03</td>\n",
       "    </tr>\n",
       "    <tr>\n",
       "      <th>4</th>\n",
       "      <td>247</td>\n",
       "      <td>The Hawaiian Pizza</td>\n",
       "      <td>Classic</td>\n",
       "      <td>M</td>\n",
       "      <td>13.25</td>\n",
       "      <td>2015</td>\n",
       "      <td>01</td>\n",
       "      <td>04</td>\n",
       "      <td>2015-01-04</td>\n",
       "    </tr>\n",
       "  </tbody>\n",
       "</table>\n",
       "</div>"
      ],
      "text/plain": [
       "   order_id                name category size  Revenue  Year Month Day  \\\n",
       "0         1  The Hawaiian Pizza  Classic    M    13.25  2015    01  01   \n",
       "1        77  The Hawaiian Pizza  Classic    M    13.25  2015    01  02   \n",
       "2       146  The Hawaiian Pizza  Classic    M    13.25  2015    01  03   \n",
       "3       163  The Hawaiian Pizza  Classic    M    13.25  2015    01  03   \n",
       "4       247  The Hawaiian Pizza  Classic    M    13.25  2015    01  04   \n",
       "\n",
       "         date  \n",
       "0  2015-01-01  \n",
       "1  2015-01-02  \n",
       "2  2015-01-03  \n",
       "3  2015-01-03  \n",
       "4  2015-01-04  "
      ]
     },
     "execution_count": 8,
     "metadata": {},
     "output_type": "execute_result"
    }
   ],
   "source": [
    "Pizza_sales = Pizza_sales[['order_id','name','category','size',\n",
    "                           'Revenue','Year','Month','Day','date']]\n",
    "Pizza_sales.head()"
   ]
  },
  {
   "attachments": {},
   "cell_type": "markdown",
   "id": "2bc4d721",
   "metadata": {},
   "source": [
    "### **1. Orders by Month :**"
   ]
  },
  {
   "cell_type": "code",
   "execution_count": 9,
   "id": "e75370c1",
   "metadata": {},
   "outputs": [
    {
     "data": {
      "image/png": "[encoded data removed]",
      "text/plain": [
       "<Figure size 640x480 with 1 Axes>"
      ]
     },
     "metadata": {},
     "output_type": "display_data"
    }
   ],
   "source": [
    "Customer_Count          = Pizza_sales.groupby(['Month']).agg({'order_id':'nunique'}).reset_index()\n",
    "Month_names             = {'01': 'Jan','02': 'Feb','03': 'Mar','04': 'Apr','05': 'May','06': 'Jun',\n",
    "                           '07': 'Jul','08': 'Aug','09': 'Sep','10': 'Oct','11': 'Nov','12': 'Dec'}\n",
    "Customer_Count['Month'] = Customer_Count['Month'].map(Month_names)\n",
    "Customer_Count          = Customer_Count.rename(columns={'order_id':'Order_Count'})\n",
    "\n",
    "#Visualizing the data :\n",
    "\n",
    "X = Customer_Count['Month'] \n",
    "Y = Customer_Count['Order_Count'] \n",
    "plt.plot(X,Y,color='blue')\n",
    "plt.title('Orders by Month',font='Verdana',color = 'red',size='15')\n",
    "from matplotlib import rcParams\n",
    "rc_params\n",
    "plt.grid(color ='gray')\n",
    "plt.show()"
   ]
  },
  {
   "attachments": {},
   "cell_type": "markdown",
   "id": "e1ebf7bf",
   "metadata": {},
   "source": [
    "#### **2. Top 5 Revenue Generated Pizzas :**"
   ]
  },
  {
   "cell_type": "code",
   "execution_count": 36,
   "id": "538a83cb",
   "metadata": {},
   "outputs": [
    {
     "data": {
      "image/png": "[encoded data removed]",
      "text/plain": [
       "<Figure size 640x480 with 1 Axes>"
      ]
     },
     "metadata": {},
     "output_type": "display_data"
    }
   ],
   "source": [
    "Top_5_pizzas = ( Pizza_sales.groupby(['name']).agg({'Revenue':'sum'})\n",
    "                .reset_index().sort_values(by=['Revenue'],ascending= [False]).head()\n",
    "               )\n",
    "\n",
    "#Visualizing the Data :\n",
    "\n",
    "X = Top_5_pizzas['name']\n",
    "Y = Top_5_pizzas['Revenue']\n",
    "plt.bar(X,Y,color='green',width=0.3)\n",
    "plt.xticks(rotation=90)\n",
    "plt.title('Revenue Generated by Best Selling Pizzas',size=10,color='red')\n",
    "plt.show()"
   ]
  },
  {
   "attachments": {},
   "cell_type": "markdown",
   "id": "a7e3452f",
   "metadata": {},
   "source": [
    "#### **3. Most Number of Times Ordered Pizzas :**"
   ]
  },
  {
   "cell_type": "code",
   "execution_count": 11,
   "id": "ca1082b0",
   "metadata": {},
   "outputs": [
    {
     "data": {
      "text/html": [
       "<div>\n",
       "<style scoped>\n",
       "    .dataframe tbody tr th:only-of-type {\n",
       "        vertical-align: middle;\n",
       "    }\n",
       "\n",
       "    .dataframe tbody tr th {\n",
       "        vertical-align: top;\n",
       "    }\n",
       "\n",
       "    .dataframe thead th {\n",
       "        text-align: right;\n",
       "    }\n",
       "</style>\n",
       "<table border=\"1\" class=\"dataframe\">\n",
       "  <thead>\n",
       "    <tr style=\"text-align: right;\">\n",
       "      <th></th>\n",
       "      <th>Pizza_Name</th>\n",
       "      <th>Order_count</th>\n",
       "    </tr>\n",
       "  </thead>\n",
       "  <tbody>\n",
       "    <tr>\n",
       "      <th>0</th>\n",
       "      <td>The Classic Deluxe Pizza</td>\n",
       "      <td>2416</td>\n",
       "    </tr>\n",
       "    <tr>\n",
       "      <th>1</th>\n",
       "      <td>The Barbecue Chicken Pizza</td>\n",
       "      <td>2372</td>\n",
       "    </tr>\n",
       "    <tr>\n",
       "      <th>2</th>\n",
       "      <td>The Hawaiian Pizza</td>\n",
       "      <td>2370</td>\n",
       "    </tr>\n",
       "    <tr>\n",
       "      <th>3</th>\n",
       "      <td>The Pepperoni Pizza</td>\n",
       "      <td>2369</td>\n",
       "    </tr>\n",
       "    <tr>\n",
       "      <th>4</th>\n",
       "      <td>The Thai Chicken Pizza</td>\n",
       "      <td>2315</td>\n",
       "    </tr>\n",
       "    <tr>\n",
       "      <th>5</th>\n",
       "      <td>The California Chicken Pizza</td>\n",
       "      <td>2302</td>\n",
       "    </tr>\n",
       "    <tr>\n",
       "      <th>6</th>\n",
       "      <td>The Spicy Italian Pizza</td>\n",
       "      <td>1887</td>\n",
       "    </tr>\n",
       "    <tr>\n",
       "      <th>7</th>\n",
       "      <td>The Sicilian Pizza</td>\n",
       "      <td>1887</td>\n",
       "    </tr>\n",
       "    <tr>\n",
       "      <th>8</th>\n",
       "      <td>The Southwest Chicken Pizza</td>\n",
       "      <td>1885</td>\n",
       "    </tr>\n",
       "    <tr>\n",
       "      <th>9</th>\n",
       "      <td>The Four Cheese Pizza</td>\n",
       "      <td>1850</td>\n",
       "    </tr>\n",
       "  </tbody>\n",
       "</table>\n",
       "</div>"
      ],
      "text/plain": [
       "                     Pizza_Name  Order_count\n",
       "0      The Classic Deluxe Pizza         2416\n",
       "1    The Barbecue Chicken Pizza         2372\n",
       "2            The Hawaiian Pizza         2370\n",
       "3           The Pepperoni Pizza         2369\n",
       "4        The Thai Chicken Pizza         2315\n",
       "5  The California Chicken Pizza         2302\n",
       "6       The Spicy Italian Pizza         1887\n",
       "7            The Sicilian Pizza         1887\n",
       "8   The Southwest Chicken Pizza         1885\n",
       "9         The Four Cheese Pizza         1850"
      ]
     },
     "execution_count": 11,
     "metadata": {},
     "output_type": "execute_result"
    }
   ],
   "source": [
    "Most_ordered = ( Pizza_sales.groupby(['name']).agg({'order_id':'count'})\n",
    "                .reset_index().sort_values(by=['order_id'],ascending = [False])\n",
    "                .rename(columns={'name':'Pizza_Name','order_id':'Order_count'})\n",
    "               )\n",
    "Most_ordered.head(10).reset_index(drop=True)"
   ]
  },
  {
   "attachments": {},
   "cell_type": "markdown",
   "id": "739f224f",
   "metadata": {},
   "source": [
    "#### **4. Pizza by the size : Analyzing Customer Preferences :**"
   ]
  },
  {
   "cell_type": "code",
   "execution_count": 35,
   "id": "8aeb580f",
   "metadata": {},
   "outputs": [
    {
     "data": {
      "image/png": "[encoded data removed]",
      "text/plain": [
       "<Figure size 640x480 with 1 Axes>"
      ]
     },
     "metadata": {},
     "output_type": "display_data"
    }
   ],
   "source": [
    "Pizza_size = ( Pizza_sales.groupby(['size']).agg({'name':'count'}).reset_index()\n",
    "              .sort_values(by=['size'],ascending=[True])\n",
    "             )\n",
    "Pizza_size = Pizza_size.rename(columns={'name':'No of Orders'})\n",
    "\n",
    "#Visualizing the Data :\n",
    "\n",
    "X = Pizza_size['size']\n",
    "Y = Pizza_size['No of Orders'] \n",
    "plt.xlabel('Size of the Pizza')\n",
    "plt.ylabel('Order Count')\n",
    "plt.bar(X,Y,color ='orange',width=0.3)\n",
    "plt.title('Pizza Size Popularity',color='Red',font='Verdana',size=15)\n",
    "plt.show()"
   ]
  },
  {
   "attachments": {},
   "cell_type": "markdown",
   "id": "5edc895d",
   "metadata": {},
   "source": [
    "#### **5. Determining the Best-Selling Pizza in Every Size Category :**"
   ]
  },
  {
   "cell_type": "code",
   "execution_count": 27,
   "id": "eacc514c",
   "metadata": {},
   "outputs": [
    {
     "data": {
      "text/html": [
       "<div>\n",
       "<style scoped>\n",
       "    .dataframe tbody tr th:only-of-type {\n",
       "        vertical-align: middle;\n",
       "    }\n",
       "\n",
       "    .dataframe tbody tr th {\n",
       "        vertical-align: top;\n",
       "    }\n",
       "\n",
       "    .dataframe thead th {\n",
       "        text-align: right;\n",
       "    }\n",
       "</style>\n",
       "<table border=\"1\" class=\"dataframe\">\n",
       "  <thead>\n",
       "    <tr style=\"text-align: right;\">\n",
       "      <th></th>\n",
       "      <th>name</th>\n",
       "      <th>size</th>\n",
       "      <th>No of Times Ordered</th>\n",
       "    </tr>\n",
       "  </thead>\n",
       "  <tbody>\n",
       "    <tr>\n",
       "      <th>0</th>\n",
       "      <td>The Big Meat Pizza</td>\n",
       "      <td>S</td>\n",
       "      <td>1811</td>\n",
       "    </tr>\n",
       "    <tr>\n",
       "      <th>1</th>\n",
       "      <td>The Thai Chicken Pizza</td>\n",
       "      <td>L</td>\n",
       "      <td>1365</td>\n",
       "    </tr>\n",
       "    <tr>\n",
       "      <th>2</th>\n",
       "      <td>The Classic Deluxe Pizza</td>\n",
       "      <td>M</td>\n",
       "      <td>1159</td>\n",
       "    </tr>\n",
       "    <tr>\n",
       "      <th>3</th>\n",
       "      <td>The Greek Pizza</td>\n",
       "      <td>XL</td>\n",
       "      <td>544</td>\n",
       "    </tr>\n",
       "    <tr>\n",
       "      <th>4</th>\n",
       "      <td>The Greek Pizza</td>\n",
       "      <td>XXL</td>\n",
       "      <td>28</td>\n",
       "    </tr>\n",
       "  </tbody>\n",
       "</table>\n",
       "</div>"
      ],
      "text/plain": [
       "                       name size  No of Times Ordered\n",
       "0        The Big Meat Pizza    S                 1811\n",
       "1    The Thai Chicken Pizza    L                 1365\n",
       "2  The Classic Deluxe Pizza    M                 1159\n",
       "3           The Greek Pizza   XL                  544\n",
       "4           The Greek Pizza  XXL                   28"
      ]
     },
     "execution_count": 27,
     "metadata": {},
     "output_type": "execute_result"
    }
   ],
   "source": [
    "def Best_Seller(Column):\n",
    "    Pizzas = ( Pizza_sales.groupby(['name',Column]).agg({'order_id':'count'})\n",
    "              .reset_index().sort_values(by=['order_id'],ascending=[False])\n",
    "             )\n",
    "    Pizzas = Pizzas.groupby([Column]).head(1).reset_index(drop=True).rename(columns={'order_id':'No of Times Ordered'})\n",
    "    return Pizzas\n",
    "Best_Seller('size')"
   ]
  },
  {
   "attachments": {},
   "cell_type": "markdown",
   "id": "0883f3c0",
   "metadata": {},
   "source": [
    "#### **6. Determining the Best-Selling Pizza in Every Category :**"
   ]
  },
  {
   "cell_type": "code",
   "execution_count": 28,
   "id": "128b78b0",
   "metadata": {},
   "outputs": [
    {
     "data": {
      "text/html": [
       "<div>\n",
       "<style scoped>\n",
       "    .dataframe tbody tr th:only-of-type {\n",
       "        vertical-align: middle;\n",
       "    }\n",
       "\n",
       "    .dataframe tbody tr th {\n",
       "        vertical-align: top;\n",
       "    }\n",
       "\n",
       "    .dataframe thead th {\n",
       "        text-align: right;\n",
       "    }\n",
       "</style>\n",
       "<table border=\"1\" class=\"dataframe\">\n",
       "  <thead>\n",
       "    <tr style=\"text-align: right;\">\n",
       "      <th></th>\n",
       "      <th>name</th>\n",
       "      <th>category</th>\n",
       "      <th>No of Times Ordered</th>\n",
       "    </tr>\n",
       "  </thead>\n",
       "  <tbody>\n",
       "    <tr>\n",
       "      <th>0</th>\n",
       "      <td>The Classic Deluxe Pizza</td>\n",
       "      <td>Classic</td>\n",
       "      <td>2416</td>\n",
       "    </tr>\n",
       "    <tr>\n",
       "      <th>1</th>\n",
       "      <td>The Barbecue Chicken Pizza</td>\n",
       "      <td>Chicken</td>\n",
       "      <td>2372</td>\n",
       "    </tr>\n",
       "    <tr>\n",
       "      <th>2</th>\n",
       "      <td>The Spicy Italian Pizza</td>\n",
       "      <td>Supreme</td>\n",
       "      <td>1887</td>\n",
       "    </tr>\n",
       "    <tr>\n",
       "      <th>3</th>\n",
       "      <td>The Four Cheese Pizza</td>\n",
       "      <td>Veggie</td>\n",
       "      <td>1850</td>\n",
       "    </tr>\n",
       "  </tbody>\n",
       "</table>\n",
       "</div>"
      ],
      "text/plain": [
       "                         name category  No of Times Ordered\n",
       "0    The Classic Deluxe Pizza  Classic                 2416\n",
       "1  The Barbecue Chicken Pizza  Chicken                 2372\n",
       "2     The Spicy Italian Pizza  Supreme                 1887\n",
       "3       The Four Cheese Pizza   Veggie                 1850"
      ]
     },
     "execution_count": 28,
     "metadata": {},
     "output_type": "execute_result"
    }
   ],
   "source": [
    "Best_Seller('category')"
   ]
  },
  {
   "attachments": {},
   "cell_type": "markdown",
   "id": "eec8a8a2",
   "metadata": {},
   "source": [
    "#### **7. Revenue Generated by the categories of Pizza :**"
   ]
  },
  {
   "cell_type": "code",
   "execution_count": 34,
   "id": "3f6ad8f4",
   "metadata": {},
   "outputs": [
    {
     "data": {
      "image/png": "[encoded data removed]",
      "text/plain": [
       "<Figure size 640x480 with 1 Axes>"
      ]
     },
     "metadata": {},
     "output_type": "display_data"
    }
   ],
   "source": [
    "Categories_Revenue            = round(Pizza_sales.groupby(['category']).agg({'Revenue':'sum'}).reset_index())\n",
    "\n",
    "#Visualizing the Data :\n",
    "\n",
    "X = Categories_Revenue['category']\n",
    "Y = Categories_Revenue['Revenue']\n",
    "plt.bar(X,Y,color='black',width=0.3)\n",
    "plt.title('Revenue By Category',color='red',size=15)\n",
    "plt.grid(True,color='black')\n",
    "plt.show()"
   ]
  },
  {
   "attachments": {},
   "cell_type": "markdown",
   "id": "d716e2c4",
   "metadata": {},
   "source": [
    "#### **8. Overall Revenue :**"
   ]
  },
  {
   "cell_type": "code",
   "execution_count": null,
   "id": "740c0f34",
   "metadata": {},
   "outputs": [
    {
     "data": {
      "text/html": [
       "<div>\n",
       "<style scoped>\n",
       "    .dataframe tbody tr th:only-of-type {\n",
       "        vertical-align: middle;\n",
       "    }\n",
       "\n",
       "    .dataframe tbody tr th {\n",
       "        vertical-align: top;\n",
       "    }\n",
       "\n",
       "    .dataframe thead th {\n",
       "        text-align: right;\n",
       "    }\n",
       "</style>\n",
       "<table border=\"1\" class=\"dataframe\">\n",
       "  <thead>\n",
       "    <tr style=\"text-align: right;\">\n",
       "      <th></th>\n",
       "      <th>Overall Revenue</th>\n",
       "    </tr>\n",
       "  </thead>\n",
       "  <tbody>\n",
       "    <tr>\n",
       "      <th>0</th>\n",
       "      <td>817860 $</td>\n",
       "    </tr>\n",
       "  </tbody>\n",
       "</table>\n",
       "</div>"
      ],
      "text/plain": [
       "  Overall Revenue\n",
       "0        817860 $"
      ]
     },
     "execution_count": 68,
     "metadata": {},
     "output_type": "execute_result"
    }
   ],
   "source": [
    "Revenue       = str(round(Pizza_sales['Revenue'].sum()))+' $'\n",
    "Total_Revenue = pd.DataFrame({'Overall Revenue':[Revenue]})\n",
    "Total_Revenue"
   ]
  },
  {
   "attachments": {},
   "cell_type": "markdown",
   "id": "4c0c353e",
   "metadata": {},
   "source": [
    "#### **9. Quarterly Wise Revenue :**"
   ]
  },
  {
   "cell_type": "code",
   "execution_count": null,
   "id": "ca92bdc0",
   "metadata": {},
   "outputs": [
    {
     "data": {
      "text/html": [
       "<div>\n",
       "<style scoped>\n",
       "    .dataframe tbody tr th:only-of-type {\n",
       "        vertical-align: middle;\n",
       "    }\n",
       "\n",
       "    .dataframe tbody tr th {\n",
       "        vertical-align: top;\n",
       "    }\n",
       "\n",
       "    .dataframe thead th {\n",
       "        text-align: right;\n",
       "    }\n",
       "</style>\n",
       "<table border=\"1\" class=\"dataframe\">\n",
       "  <thead>\n",
       "    <tr style=\"text-align: right;\">\n",
       "      <th></th>\n",
       "      <th>Quarter</th>\n",
       "      <th>Revenue</th>\n",
       "    </tr>\n",
       "  </thead>\n",
       "  <tbody>\n",
       "    <tr>\n",
       "      <th>0</th>\n",
       "      <td>1st Quarter</td>\n",
       "      <td>20535 $</td>\n",
       "    </tr>\n",
       "    <tr>\n",
       "      <th>1</th>\n",
       "      <td>2nd Quarter</td>\n",
       "      <td>20837 $</td>\n",
       "    </tr>\n",
       "    <tr>\n",
       "      <th>2</th>\n",
       "      <td>3rd Quarter</td>\n",
       "      <td>205016 $</td>\n",
       "    </tr>\n",
       "    <tr>\n",
       "      <th>3</th>\n",
       "      <td>4th Quarter</td>\n",
       "      <td>199124 $</td>\n",
       "    </tr>\n",
       "  </tbody>\n",
       "</table>\n",
       "</div>"
      ],
      "text/plain": [
       "       Quarter   Revenue\n",
       "0  1st Quarter   20535 $\n",
       "1  2nd Quarter   20837 $\n",
       "2  3rd Quarter  205016 $\n",
       "3  4th Quarter  199124 $"
      ]
     },
     "execution_count": 69,
     "metadata": {},
     "output_type": "execute_result"
    }
   ],
   "source": [
    "Quarter_Names = {'01': '1st Quarter', '02': '1st Quarter', '03': '1st Quarter',\n",
    "                 '04': '2nd Quarter', '05': '2nd Quarter', '06': '2nd Quarter',\n",
    "                 '07': '3rd Quarter', '08': '3rd Quarter', '09': '3rd Quarter',\n",
    "                 '10': '4th Quarter', '11': '4th Quarter', '12': '4th Quarter'}\n",
    "                 \n",
    "Quarterly_Revenue            = Pizza_sales[['Month','Revenue']]\n",
    "Quarterly_Revenue            = round(Quarterly_Revenue.groupby(['Month']).agg({'Revenue':'sum'}).reset_index())\n",
    "Quarterly_Revenue['Quarter'] = Quarterly_Revenue['Month'].map(Quarter_Names)\n",
    "Quarterly_Revenue            = Quarterly_Revenue.groupby(['Quarter']).agg({'Revenue':'sum'}).reset_index()\n",
    "Quarterly_Revenue['Revenue'] = Quarterly_Revenue['Revenue'].astype('str').str.strip('.0')+' $'\n",
    "Quarterly_Revenue"
   ]
  },
  {
   "attachments": {},
   "cell_type": "markdown",
   "id": "061ea48f",
   "metadata": {},
   "source": [
    "#### **10. Quarterly Wise Number of Orders :**"
   ]
  },
  {
   "cell_type": "code",
   "execution_count": null,
   "id": "2baca4d5",
   "metadata": {},
   "outputs": [
    {
     "data": {
      "text/html": [
       "<div>\n",
       "<style scoped>\n",
       "    .dataframe tbody tr th:only-of-type {\n",
       "        vertical-align: middle;\n",
       "    }\n",
       "\n",
       "    .dataframe tbody tr th {\n",
       "        vertical-align: top;\n",
       "    }\n",
       "\n",
       "    .dataframe thead th {\n",
       "        text-align: right;\n",
       "    }\n",
       "</style>\n",
       "<table border=\"1\" class=\"dataframe\">\n",
       "  <thead>\n",
       "    <tr style=\"text-align: right;\">\n",
       "      <th></th>\n",
       "      <th>Quarter</th>\n",
       "      <th>Order_Count</th>\n",
       "    </tr>\n",
       "  </thead>\n",
       "  <tbody>\n",
       "    <tr>\n",
       "      <th>0</th>\n",
       "      <td>1st Quarter</td>\n",
       "      <td>5370</td>\n",
       "    </tr>\n",
       "    <tr>\n",
       "      <th>1</th>\n",
       "      <td>2nd Quarter</td>\n",
       "      <td>5425</td>\n",
       "    </tr>\n",
       "    <tr>\n",
       "      <th>2</th>\n",
       "      <td>3rd Quarter</td>\n",
       "      <td>5437</td>\n",
       "    </tr>\n",
       "    <tr>\n",
       "      <th>3</th>\n",
       "      <td>4th Quarter</td>\n",
       "      <td>5118</td>\n",
       "    </tr>\n",
       "  </tbody>\n",
       "</table>\n",
       "</div>"
      ],
      "text/plain": [
       "       Quarter  Order_Count\n",
       "0  1st Quarter         5370\n",
       "1  2nd Quarter         5425\n",
       "2  3rd Quarter         5437\n",
       "3  4th Quarter         5118"
      ]
     },
     "execution_count": 31,
     "metadata": {},
     "output_type": "execute_result"
    }
   ],
   "source": [
    "Order_Count            = Pizza_sales.groupby(['Month']).agg({'order_id':'nunique'}).reset_index()\n",
    "Order_Count['Quarter'] = Order_Count['Month'].map(Quarter_Names)\n",
    "Order_Count            = ( Order_Count.groupby(['Quarter']).agg({'order_id':'sum'})\n",
    "                          .reset_index().rename(columns={'order_id':'Order_Count'})\n",
    "                         )\n",
    "Order_Count"
   ]
  },
  {
   "attachments": {},
   "cell_type": "markdown",
   "id": "ff0c0153",
   "metadata": {},
   "source": [
    "#### **11. Contribution of Each and Every Pizza in Over all Revenue :**"
   ]
  },
  {
   "cell_type": "code",
   "execution_count": null,
   "id": "5107e444",
   "metadata": {},
   "outputs": [
    {
     "data": {
      "text/html": [
       "<div>\n",
       "<style scoped>\n",
       "    .dataframe tbody tr th:only-of-type {\n",
       "        vertical-align: middle;\n",
       "    }\n",
       "\n",
       "    .dataframe tbody tr th {\n",
       "        vertical-align: top;\n",
       "    }\n",
       "\n",
       "    .dataframe thead th {\n",
       "        text-align: right;\n",
       "    }\n",
       "</style>\n",
       "<table border=\"1\" class=\"dataframe\">\n",
       "  <thead>\n",
       "    <tr style=\"text-align: right;\">\n",
       "      <th></th>\n",
       "      <th>Pizza_Name</th>\n",
       "      <th>Contribution in Revenue</th>\n",
       "    </tr>\n",
       "  </thead>\n",
       "  <tbody>\n",
       "    <tr>\n",
       "      <th>0</th>\n",
       "      <td>The Thai Chicken Pizza</td>\n",
       "      <td>5.31 %</td>\n",
       "    </tr>\n",
       "    <tr>\n",
       "      <th>1</th>\n",
       "      <td>The Barbecue Chicken Pizza</td>\n",
       "      <td>5.23 %</td>\n",
       "    </tr>\n",
       "    <tr>\n",
       "      <th>2</th>\n",
       "      <td>The California Chicken Pizza</td>\n",
       "      <td>5.06 %</td>\n",
       "    </tr>\n",
       "    <tr>\n",
       "      <th>3</th>\n",
       "      <td>The Classic Deluxe Pizza</td>\n",
       "      <td>4.67 %</td>\n",
       "    </tr>\n",
       "    <tr>\n",
       "      <th>4</th>\n",
       "      <td>The Spicy Italian Pizza</td>\n",
       "      <td>4.26 %</td>\n",
       "    </tr>\n",
       "    <tr>\n",
       "      <th>5</th>\n",
       "      <td>The Southwest Chicken Pizza</td>\n",
       "      <td>4.24 %</td>\n",
       "    </tr>\n",
       "    <tr>\n",
       "      <th>6</th>\n",
       "      <td>The Italian Supreme Pizza</td>\n",
       "      <td>4.09 %</td>\n",
       "    </tr>\n",
       "    <tr>\n",
       "      <th>7</th>\n",
       "      <td>The Hawaiian Pizza</td>\n",
       "      <td>3.95 %</td>\n",
       "    </tr>\n",
       "    <tr>\n",
       "      <th>8</th>\n",
       "      <td>The Four Cheese Pizza</td>\n",
       "      <td>3.95 %</td>\n",
       "    </tr>\n",
       "    <tr>\n",
       "      <th>9</th>\n",
       "      <td>The Sicilian Pizza</td>\n",
       "      <td>3.78 %</td>\n",
       "    </tr>\n",
       "    <tr>\n",
       "      <th>10</th>\n",
       "      <td>The Pepperoni Pizza</td>\n",
       "      <td>3.69 %</td>\n",
       "    </tr>\n",
       "    <tr>\n",
       "      <th>11</th>\n",
       "      <td>The Greek Pizza</td>\n",
       "      <td>3.48 %</td>\n",
       "    </tr>\n",
       "    <tr>\n",
       "      <th>12</th>\n",
       "      <td>The Mexicana Pizza</td>\n",
       "      <td>3.27 %</td>\n",
       "    </tr>\n",
       "    <tr>\n",
       "      <th>13</th>\n",
       "      <td>The Five Cheese Pizza</td>\n",
       "      <td>3.19 %</td>\n",
       "    </tr>\n",
       "    <tr>\n",
       "      <th>14</th>\n",
       "      <td>The Pepper Salami Pizza</td>\n",
       "      <td>3.12 %</td>\n",
       "    </tr>\n",
       "    <tr>\n",
       "      <th>15</th>\n",
       "      <td>The Italian Capocollo Pizza</td>\n",
       "      <td>3.07 %</td>\n",
       "    </tr>\n",
       "    <tr>\n",
       "      <th>16</th>\n",
       "      <td>The Vegetables Pizza</td>\n",
       "      <td>2.98 %</td>\n",
       "    </tr>\n",
       "    <tr>\n",
       "      <th>17</th>\n",
       "      <td>The Prosciutto and Arugula Pizza</td>\n",
       "      <td>2.96 %</td>\n",
       "    </tr>\n",
       "    <tr>\n",
       "      <th>18</th>\n",
       "      <td>The Napolitana Pizza</td>\n",
       "      <td>2.95 %</td>\n",
       "    </tr>\n",
       "    <tr>\n",
       "      <th>19</th>\n",
       "      <td>The Spinach and Feta Pizza</td>\n",
       "      <td>2.85 %</td>\n",
       "    </tr>\n",
       "    <tr>\n",
       "      <th>20</th>\n",
       "      <td>The Big Meat Pizza</td>\n",
       "      <td>2.81 %</td>\n",
       "    </tr>\n",
       "    <tr>\n",
       "      <th>21</th>\n",
       "      <td>The Pepperoni, Mushroom, and Peppers Pizza</td>\n",
       "      <td>2.3 %</td>\n",
       "    </tr>\n",
       "    <tr>\n",
       "      <th>22</th>\n",
       "      <td>The Chicken Alfredo Pizza</td>\n",
       "      <td>2.07 %</td>\n",
       "    </tr>\n",
       "    <tr>\n",
       "      <th>23</th>\n",
       "      <td>The Chicken Pesto Pizza</td>\n",
       "      <td>2.04 %</td>\n",
       "    </tr>\n",
       "    <tr>\n",
       "      <th>24</th>\n",
       "      <td>The Soppressata Pizza</td>\n",
       "      <td>2.01 %</td>\n",
       "    </tr>\n",
       "    <tr>\n",
       "      <th>25</th>\n",
       "      <td>The Italian Vegetables Pizza</td>\n",
       "      <td>1.96 %</td>\n",
       "    </tr>\n",
       "    <tr>\n",
       "      <th>26</th>\n",
       "      <td>The Calabrese Pizza</td>\n",
       "      <td>1.95 %</td>\n",
       "    </tr>\n",
       "    <tr>\n",
       "      <th>27</th>\n",
       "      <td>The Spinach Pesto Pizza</td>\n",
       "      <td>1.91 %</td>\n",
       "    </tr>\n",
       "    <tr>\n",
       "      <th>28</th>\n",
       "      <td>The Mediterranean Pizza</td>\n",
       "      <td>1.88 %</td>\n",
       "    </tr>\n",
       "    <tr>\n",
       "      <th>29</th>\n",
       "      <td>The Spinach Supreme Pizza</td>\n",
       "      <td>1.87 %</td>\n",
       "    </tr>\n",
       "    <tr>\n",
       "      <th>30</th>\n",
       "      <td>The Green Garden Pizza</td>\n",
       "      <td>1.71 %</td>\n",
       "    </tr>\n",
       "    <tr>\n",
       "      <th>31</th>\n",
       "      <td>The Brie Carre Pizza</td>\n",
       "      <td>1.42 %</td>\n",
       "    </tr>\n",
       "  </tbody>\n",
       "</table>\n",
       "</div>"
      ],
      "text/plain": [
       "                                    Pizza_Name Contribution in Revenue\n",
       "0                       The Thai Chicken Pizza                  5.31 %\n",
       "1                   The Barbecue Chicken Pizza                  5.23 %\n",
       "2                 The California Chicken Pizza                  5.06 %\n",
       "3                     The Classic Deluxe Pizza                  4.67 %\n",
       "4                      The Spicy Italian Pizza                  4.26 %\n",
       "5                  The Southwest Chicken Pizza                  4.24 %\n",
       "6                    The Italian Supreme Pizza                  4.09 %\n",
       "7                           The Hawaiian Pizza                  3.95 %\n",
       "8                        The Four Cheese Pizza                  3.95 %\n",
       "9                           The Sicilian Pizza                  3.78 %\n",
       "10                         The Pepperoni Pizza                  3.69 %\n",
       "11                             The Greek Pizza                  3.48 %\n",
       "12                          The Mexicana Pizza                  3.27 %\n",
       "13                       The Five Cheese Pizza                  3.19 %\n",
       "14                     The Pepper Salami Pizza                  3.12 %\n",
       "15                 The Italian Capocollo Pizza                  3.07 %\n",
       "16                        The Vegetables Pizza                  2.98 %\n",
       "17            The Prosciutto and Arugula Pizza                  2.96 %\n",
       "18                        The Napolitana Pizza                  2.95 %\n",
       "19                  The Spinach and Feta Pizza                  2.85 %\n",
       "20                          The Big Meat Pizza                  2.81 %\n",
       "21  The Pepperoni, Mushroom, and Peppers Pizza                   2.3 %\n",
       "22                   The Chicken Alfredo Pizza                  2.07 %\n",
       "23                     The Chicken Pesto Pizza                  2.04 %\n",
       "24                       The Soppressata Pizza                  2.01 %\n",
       "25                The Italian Vegetables Pizza                  1.96 %\n",
       "26                         The Calabrese Pizza                  1.95 %\n",
       "27                     The Spinach Pesto Pizza                  1.91 %\n",
       "28                     The Mediterranean Pizza                  1.88 %\n",
       "29                   The Spinach Supreme Pizza                  1.87 %\n",
       "30                      The Green Garden Pizza                  1.71 %\n",
       "31                        The Brie Carre Pizza                  1.42 %"
      ]
     },
     "execution_count": 70,
     "metadata": {},
     "output_type": "execute_result"
    }
   ],
   "source": [
    "Revenue_per_Pizza    = (Pizza_sales.groupby(['name']).agg({'Revenue':'sum'})\n",
    "                        .reset_index().sort_values(by=['Revenue'],ascending= [False]))\n",
    "Total_Revenue        = Pizza_sales['Revenue'].sum()  \n",
    "Revenue_in_Perc      = round((Revenue_per_Pizza['Revenue']/Total_Revenue)*100,2)\n",
    "Result               =  ( pd.DataFrame({'name':Revenue_per_Pizza['name'], 'Contribution in Revenue' :Revenue_in_Perc})\n",
    "                                        .reset_index(drop=True).rename(columns={'name':'Pizza_Name'})\n",
    "                        )\n",
    "Result['Contribution in Revenue'] = Result['Contribution in Revenue'].astype('str')+' %'\n",
    "Result"
   ]
  }
 ],
 "metadata": {
  "kernelspec": {
   "display_name": "Python 3",
   "language": "python",
   "name": "python3"
  },
  "language_info": {
   "codemirror_mode": {
    "name": "ipython",
    "version": 3
   },
   "file_extension": ".py",
   "mimetype": "text/x-python",
   "name": "python",
   "nbconvert_exporter": "python",
   "pygments_lexer": "ipython3",
   "version": "3.9.13"
  },
  "vscode": {
   "interpreter": {
    "hash": "2a514379cc6be58733012563c88818cb3ec1bb760c8404a0db76b5596b224488"
   }
  }
 },
 "nbformat": 4,
 "nbformat_minor": 5
}
